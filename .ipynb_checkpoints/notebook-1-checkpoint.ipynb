{
 "cells": [
  {
   "cell_type": "code",
   "execution_count": 22,
   "id": "e2e9712c",
   "metadata": {},
   "outputs": [],
   "source": [
    "import pandas as pd"
   ]
  },
  {
   "cell_type": "code",
   "execution_count": 23,
   "id": "960f5d96",
   "metadata": {},
   "outputs": [],
   "source": [
    "df = pd.read_csv('Protenus Sales Training Data.csv')"
   ]
  },
  {
   "cell_type": "code",
   "execution_count": 1,
   "id": "59ea301a",
   "metadata": {},
   "outputs": [
    {
     "ename": "NameError",
     "evalue": "name 'df' is not defined",
     "output_type": "error",
     "traceback": [
      "\u001b[0;31m---------------------------------------------------------------------------\u001b[0m",
      "\u001b[0;31mNameError\u001b[0m                                 Traceback (most recent call last)",
      "Cell \u001b[0;32mIn[1], line 2\u001b[0m\n\u001b[1;32m      1\u001b[0m \u001b[38;5;66;03m#print first 5 rows\u001b[39;00m\n\u001b[0;32m----> 2\u001b[0m df\u001b[38;5;241m.\u001b[39mhead(\u001b[38;5;241m100\u001b[39m)\n",
      "\u001b[0;31mNameError\u001b[0m: name 'df' is not defined"
     ]
    }
   ],
   "source": [
    "#print first 5 rows\n",
    "df.head(100)"
   ]
  },
  {
   "cell_type": "code",
   "execution_count": 25,
   "id": "fd5273c5",
   "metadata": {},
   "outputs": [
    {
     "name": "stdout",
     "output_type": "stream",
     "text": [
      "The DataFrame has 8844 rows.\n"
     ]
    }
   ],
   "source": [
    "# Display the number of rows in the DataFrame\n",
    "rows = df.shape[0]\n",
    "print(f\"The DataFrame has {rows} rows.\")"
   ]
  },
  {
   "cell_type": "code",
   "execution_count": 28,
   "id": "bc327b01",
   "metadata": {},
   "outputs": [
    {
     "name": "stdout",
     "output_type": "stream",
     "text": [
      "Snapshot_Date                                             1/1/23\n",
      "Opportunity_ID                                   0061K00000hwfqe\n",
      "Opportunity_Stage                              Stage 3 - Pricing\n",
      "Opportunity_Type                                    New Business\n",
      "Opportunity_Annual_Amount                            119357.5453\n",
      "Opportunity_Created_Date                                 7/30/21\n",
      "Opportunity_Close_Date                                  12/31/23\n",
      "Opportunity_Product                         Diversion Monitoring\n",
      "Account_Electronic_Medical_Record_System                    Epic\n",
      "Account_Hospital_Type                              Health System\n",
      "Account_Fiscal_Year_End                                      NaN\n",
      "Account_State                                                 MI\n",
      "Account_Zip_Code                                         48602.0\n",
      "Account_Number_of_Hospitals                                  3.0\n",
      "Account_Number_of_Beds                                     754.0\n",
      "Account_Number_of_Affiliated_Physicians                    771.0\n",
      "Account_Number_of_Employee                                3922.0\n",
      "Account_Cash_on_Hand                                  14189584.0\n",
      "Account_Total_Patient_Revenue                       2474894056.0\n",
      "Account_Net_Patient_Revenue                          685295627.0\n",
      "Name: 8000, dtype: object\n"
     ]
    }
   ],
   "source": [
    "# Print specific row\n",
    "specific_row = df.iloc[8000]\n",
    "print(specific_row)"
   ]
  },
  {
   "cell_type": "code",
   "execution_count": null,
   "id": "dae910ea",
   "metadata": {},
   "outputs": [],
   "source": []
  },
  {
   "cell_type": "code",
   "execution_count": null,
   "id": "5b436df4",
   "metadata": {},
   "outputs": [],
   "source": []
  },
  {
   "cell_type": "code",
   "execution_count": null,
   "id": "d155c4b9",
   "metadata": {},
   "outputs": [],
   "source": []
  }
 ],
 "metadata": {
  "kernelspec": {
   "display_name": "Python 3 (ipykernel)",
   "language": "python",
   "name": "python3"
  },
  "language_info": {
   "codemirror_mode": {
    "name": "ipython",
    "version": 3
   },
   "file_extension": ".py",
   "mimetype": "text/x-python",
   "name": "python",
   "nbconvert_exporter": "python",
   "pygments_lexer": "ipython3",
   "version": "3.11.5"
  }
 },
 "nbformat": 4,
 "nbformat_minor": 5
}
